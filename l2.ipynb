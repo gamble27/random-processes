{
 "cells": [
  {
   "cell_type": "code",
   "execution_count": 1,
   "outputs": [],
   "source": [
    "import numpy as np\n",
    "from typing import Callable\n",
    "from matplotlib import pyplot as plt\n",
    "%matplotlib inline"
   ],
   "metadata": {
    "collapsed": false
   }
  },
  {
   "cell_type": "markdown",
   "source": [
    "## Task\n",
    "\n",
    "Змоделювати розв'язок рівняння методами Ейлера та Мільштейна (вручну та за допомогою вбудованої функції):\n",
    "\n",
    "$dX_t = 2X_t dt + (X_t)^{1/2} dB_t$,\n",
    "\n",
    "$X_0= x$"
   ],
   "metadata": {
    "collapsed": false
   }
  },
  {
   "cell_type": "code",
   "execution_count": 2,
   "outputs": [],
   "source": [
    "def b(t, Xt):\n",
    "    return 2*Xt\n",
    "\n",
    "def sigma(t, Xt):\n",
    "    return Xt**0.5"
   ],
   "metadata": {
    "collapsed": false
   }
  },
  {
   "cell_type": "markdown",
   "source": [
    "## Euler scheme"
   ],
   "metadata": {
    "collapsed": false
   }
  },
  {
   "cell_type": "code",
   "execution_count": 3,
   "metadata": {
    "collapsed": true
   },
   "outputs": [],
   "source": [
    "def euler_scheme(\n",
    "        x0: float,\n",
    "        t: np.array,\n",
    "        b:Callable = b,\n",
    "        sigma:Callable = sigma\n",
    "):\n",
    "    assert t[0] == 0, \"wrong time interval\"\n",
    "\n",
    "    x = np.zeros(t.shape[0])\n",
    "    x[0] = x0\n",
    "\n",
    "    for i in range(1, t.shape[0]):\n",
    "        timediff = t[i] - t[i-1]\n",
    "        y = np.random.normal(\n",
    "            loc=0,\n",
    "            scale=timediff\n",
    "        )\n",
    "        x[i] = x[i-1] + b(t[i-1], x[i-1])*timediff + sigma(t[i-1], x[i-1])*y\n",
    "\n",
    "    return x"
   ]
  },
  {
   "cell_type": "code",
   "execution_count": 4,
   "outputs": [
    {
     "data": {
      "text/plain": "[<matplotlib.lines.Line2D at 0x7f1ab811de80>]"
     },
     "execution_count": 4,
     "metadata": {},
     "output_type": "execute_result"
    },
    {
     "data": {
      "text/plain": "<Figure size 432x288 with 1 Axes>",
      "image/png": "[encoded data removed]"
     },
     "metadata": {
      "needs_background": "light"
     },
     "output_type": "display_data"
    }
   ],
   "source": [
    "t = np.linspace(0,10,100)\n",
    "x0 = np.random.uniform(0.5, 1.5)\n",
    "x_e = euler_scheme(x0, t)\n",
    "\n",
    "plt.plot(t,x_e)"
   ],
   "metadata": {
    "collapsed": false
   }
  },
  {
   "cell_type": "markdown",
   "source": [
    "## Milstein scheme"
   ],
   "metadata": {
    "collapsed": false
   }
  },
  {
   "cell_type": "code",
   "execution_count": 5,
   "outputs": [],
   "source": [
    "def sigma_01(t, Xt):\n",
    "    return 0.5*Xt**(-0.5)\n",
    "\n",
    "def milstein_scheme(\n",
    "        x0: float,\n",
    "        t: np.array,\n",
    "        b:Callable = b,\n",
    "        sigma:Callable = sigma\n",
    "):\n",
    "    assert t[0] == 0, \"wrong time interval\"\n",
    "\n",
    "    x = np.zeros(t.shape[0])\n",
    "    x[0] = x0\n",
    "\n",
    "    for i in range(1, t.shape[0]):\n",
    "        timediff = t[i] - t[i-1]\n",
    "        y = np.random.normal(\n",
    "            loc=0,\n",
    "            scale=timediff\n",
    "        )\n",
    "        x[i] = x[i-1] + \\\n",
    "               b(t[i-1], x[i-1])*timediff + \\\n",
    "               sigma(t[i-1], x[i-1])*(y + sigma_01(t[i-1], x[i-1])*(y**2 - timediff)/2)\n",
    "\n",
    "    return x"
   ],
   "metadata": {
    "collapsed": false
   }
  },
  {
   "cell_type": "code",
   "execution_count": 6,
   "outputs": [
    {
     "data": {
      "text/plain": "[<matplotlib.lines.Line2D at 0x7f1ab00206d8>]"
     },
     "execution_count": 6,
     "metadata": {},
     "output_type": "execute_result"
    },
    {
     "data": {
      "text/plain": "<Figure size 432x288 with 1 Axes>",
      "image/png": "[encoded data removed]"
     },
     "metadata": {
      "needs_background": "light"
     },
     "output_type": "display_data"
    }
   ],
   "source": [
    "t = np.linspace(0,10,100)\n",
    "x0 = np.random.uniform(0.5, 1.5)\n",
    "x_m = milstein_scheme(x0, t)\n",
    "\n",
    "plt.plot(t,x_m)"
   ],
   "metadata": {
    "collapsed": false
   }
  },
  {
   "cell_type": "markdown",
   "source": [
    "## Compare"
   ],
   "metadata": {
    "collapsed": false
   }
  },
  {
   "cell_type": "code",
   "execution_count": 7,
   "outputs": [
    {
     "name": "stderr",
     "output_type": "stream",
     "text": [
      "/home/olga/Projects/CPI/venv/lib/python3.6/site-packages/ipykernel_launcher.py:6: UserWarning: Matplotlib is currently using module://ipykernel.pylab.backend_inline, which is a non-GUI backend, so cannot show the figure.\n",
      "  \n"
     ]
    },
    {
     "data": {
      "text/plain": "<Figure size 432x288 with 1 Axes>",
      "image/png": "[encoded data removed]"
     },
     "metadata": {
      "needs_background": "light"
     },
     "output_type": "display_data"
    }
   ],
   "source": [
    "fig, ax = plt.subplots()\n",
    "ax.plot(t, x_m, label=\"milstein\")\n",
    "ax.plot(t, x_e, label=\"euler\")\n",
    "ax.set_title(\"processes comparison\")\n",
    "ax.legend()\n",
    "fig.show()"
   ],
   "metadata": {
    "collapsed": false
   }
  },
  {
   "cell_type": "code",
   "execution_count": 8,
   "outputs": [
    {
     "data": {
      "text/plain": "[<matplotlib.lines.Line2D at 0x7f1aaff86518>]"
     },
     "execution_count": 8,
     "metadata": {},
     "output_type": "execute_result"
    },
    {
     "data": {
      "text/plain": "<Figure size 432x288 with 1 Axes>",
      "image/png": "[encoded data removed]"
     },
     "metadata": {
      "needs_background": "light"
     },
     "output_type": "display_data"
    }
   ],
   "source": [
    "plt.plot(t, x_e-x_m)"
   ],
   "metadata": {
    "collapsed": false
   }
  },
  {
   "cell_type": "code",
   "execution_count": 9,
   "outputs": [
    {
     "data": {
      "text/plain": "6036468.035884634"
     },
     "execution_count": 9,
     "metadata": {},
     "output_type": "execute_result"
    }
   ],
   "source": [
    "(x_e-x_m)[-1]"
   ],
   "metadata": {
    "collapsed": false
   }
  }
 ],
 "metadata": {
  "kernelspec": {
   "name": "pycharm-8300f7de",
   "language": "python",
   "display_name": "PyCharm (CPI)"
  },
  "language_info": {
   "codemirror_mode": {
    "name": "ipython",
    "version": 2
   },
   "file_extension": ".py",
   "mimetype": "text/x-python",
   "name": "python",
   "nbconvert_exporter": "python",
   "pygments_lexer": "ipython2",
   "version": "2.7.6"
  }
 },
 "nbformat": 4,
 "nbformat_minor": 0
}
